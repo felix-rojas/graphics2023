{
 "cells": [
  {
   "attachments": {},
   "cell_type": "markdown",
   "id": "675c2372",
   "metadata": {},
   "source": [
    "# Reto emergencias\n",
    "\n",
    "## Agentes\n",
    "\n",
    "- Vehicle\n",
    "  - Can move in highwayArea\n",
    "- Rescuer\n",
    "  - Can move, spawns from Vehicle\n",
    "- Victims\n",
    "  - Only spawn in building zones\n",
    "  - Can't move\n",
    "\n",
    "## Modelos\n",
    "\n",
    "- CityGrid\n",
    "  - SingleGrid\n",
    "  - buildingZoneWidth\n",
    "  - buildingZoneHeight\n",
    "  - laneWidth = 3.5\n",
    "  - lanes = 3\n",
    "  - highwayWidth = laneWidth * lanes\n",
    "  - highwayHeight = 1000 \n",
    "  - crisisType [None, Fire]\n",
    "  - buildingFloors\n",
    "  - buildingWidth\n",
    "  - buildingHeight"
   ]
  },
  {
   "attachments": {},
   "cell_type": "markdown",
   "id": "66f86ef7",
   "metadata": {},
   "source": [
    "A diferencia de otros ejemplos, no queremos realizar una animación basada en una matriz sino en objetos que se mueven libremente en un espacio bidimencional. "
   ]
  },
  {
   "attachments": {},
   "cell_type": "markdown",
   "id": "d4c5db9b",
   "metadata": {},
   "source": [
    "## Imports"
   ]
  },
  {
   "cell_type": "code",
   "execution_count": 2,
   "id": "41bf92fe",
   "metadata": {},
   "outputs": [
    {
     "ename": "ModuleNotFoundError",
     "evalue": "No module named 'mesa'",
     "output_type": "error",
     "traceback": [
      "\u001b[1;31m---------------------------------------------------------------------------\u001b[0m",
      "\u001b[1;31mModuleNotFoundError\u001b[0m                       Traceback (most recent call last)",
      "Cell \u001b[1;32mIn[2], line 3\u001b[0m\n\u001b[0;32m      1\u001b[0m \u001b[39m# Importamos las clases que se requieren para manejar los agentes (Agent) y su entorno (Model).\u001b[39;00m\n\u001b[0;32m      2\u001b[0m \u001b[39m# Cada modelo puede contener múltiples agentes.\u001b[39;00m\n\u001b[1;32m----> 3\u001b[0m \u001b[39mfrom\u001b[39;00m \u001b[39mmesa\u001b[39;00m \u001b[39mimport\u001b[39;00m Agent, Model \n\u001b[0;32m      5\u001b[0m \u001b[39m# Con ''SimultaneousActivation, hacemos que todos los agentes se activen ''al azar''.\u001b[39;00m\n\u001b[0;32m      6\u001b[0m \u001b[39mfrom\u001b[39;00m \u001b[39mmesa\u001b[39;00m\u001b[39m.\u001b[39;00m\u001b[39mtime\u001b[39;00m \u001b[39mimport\u001b[39;00m RandomActivation\n",
      "\u001b[1;31mModuleNotFoundError\u001b[0m: No module named 'mesa'"
     ]
    }
   ],
   "source": [
    "# Importamos las clases que se requieren para manejar los agentes (Agent) y su entorno (Model).\n",
    "# Cada modelo puede contener múltiples agentes.\n",
    "from mesa import Agent, Model \n",
    "\n",
    "# Con ''SimultaneousActivation, hacemos que todos los agentes se activen ''al azar''.\n",
    "from mesa.time import RandomActivation\n",
    "\n",
    "# Haremos uso de ''DataCollector'' para obtener información de cada paso de la simulación.\n",
    "from mesa.datacollection import DataCollector\n",
    "\n",
    "# matplotlib lo usaremos crear una animación de cada uno de los pasos del modelo.\n",
    "%matplotlib inline\n",
    "import matplotlib\n",
    "import matplotlib.pyplot as plt\n",
    "import matplotlib.animation as animation\n",
    "plt.rcParams[\"animation.html\"] = \"jshtml\"\n",
    "matplotlib.rcParams['animation.embed_limit'] = 2**128\n",
    "\n",
    "# Importamos los siguientes paquetes para el mejor manejo de valores numéricos.\n",
    "import numpy as np\n",
    "import pandas as pd\n",
    "\n",
    "# Definimos otros paquetes que vamos a usar para medir el tiempo de ejecución de nuestro algoritmo.\n",
    "import time\n",
    "import datetime\n",
    "from sklearn.neighbors import NearestNeighbors\n",
    "\n",
    "neighbors = NearestNeighbors(metric='euclidian')"
   ]
  },
  {
   "cell_type": "code",
   "execution_count": null,
   "id": "eadd11db",
   "metadata": {},
   "outputs": [],
   "source": [
    "from mesa.model import Model\n",
    "\n",
    "class Vehicle(Agent):\n",
    "    def __init__(self, id, model, x, y, width, height):\n",
    "        super().__init__(id, model)\n",
    "\n",
    "        self.position = np.array((x,y), dtype=np.float64)\n",
    "\n",
    "        # position\n",
    "        vec = (np.random.rand(2) - 0.5) * 10\n",
    "        \n",
    "        # initial velocity of agent\n",
    "        self.velocity = np.array(vec, dtype=np.float64)\n",
    "        \n",
    "        # initial acceleration of agent\n",
    "        vec = (np.random.rand(2) - 0.5) / 2\n",
    "        self.acceleration = np.array(vec, dtype=np.float64)\n",
    "\n",
    "        # max turning force\n",
    "        self.max_force = 0.3\n",
    "\n",
    "        self.max_speed = 5\n",
    "\n",
    "        # max distance that bird is looking at\n",
    "        self.perception = 50\n",
    "\n",
    "        self.width = width\n",
    "        self.height = height\n",
    "    \n",
    "    def step(self):\n",
    "        # each step will check the limits of the toroidal space\n",
    "        self.check_edges()\n",
    "        # each step will check the neighbors to change velocity and acceleration\n",
    "        self.check_neighbors()\n",
    "\n",
    "        self.position = self.position + self.velocity\n",
    "        self.velocity = self.velocity + self.acceleration\n",
    "\n",
    "        if np.linalg.norm(self.velocity) > self.max_speed:\n",
    "            # lower speed in proportion to max_speed\n",
    "            self.velocity = self.velocity / np.linalg.norm(self.velocity) * self.max_speed\n",
    "\n",
    "        self.acceleration = np.array((0,0), dtype=np.float64)\n",
    "\n",
    "    def check_edges(self):\n",
    "        if self.position.flatten()[0] > self.width:\n",
    "            self.position[0] = 0\n",
    "        elif self.position.flatten()[0] < 0:\n",
    "            self.position[0] = self.width\n",
    "        \n",
    "        if self.position.flatten()[1] > self.height:\n",
    "            self.position[1] = 0\n",
    "        elif self.position.flatten()[1] < 0:\n",
    "            self.position[1] = self.height\n",
    "    \n",
    "    def check_neighbors(self):\n",
    "        alignment = self.align()\n",
    "        cohesion = self.cohesion()\n",
    "        separation = self.separation()\n",
    "        self.acceleration = self.acceleration + alignment\n",
    "        self.acceleration = self.acceleration + cohesion\n",
    "        self.acceleration = self.acceleration + separation"
   ]
  }
 ],
 "metadata": {
  "kernelspec": {
   "display_name": "Python 3 (ipykernel)",
   "language": "python",
   "name": "python3"
  },
  "language_info": {
   "codemirror_mode": {
    "name": "ipython",
    "version": 3
   },
   "file_extension": ".py",
   "mimetype": "text/x-python",
   "name": "python",
   "nbconvert_exporter": "python",
   "pygments_lexer": "ipython3",
   "version": "3.10.11"
  }
 },
 "nbformat": 4,
 "nbformat_minor": 5
}
