{
 "cells": [
  {
   "cell_type": "code",
   "execution_count": 32,
   "id": "39b0ddb8",
   "metadata": {},
   "outputs": [],
   "source": [
    "# Importamos las clases que se requieren para manejar los agentes (Agent) y su entorno (Model).\n",
    "# Cada modelo puede contener múltiples agentes.\n",
    "from mesa import Agent, Model \n",
    "\n",
    "# Debido a que necesitamos que existe un solo agente por celda, elegimos ''SingleGrid''.\n",
    "from mesa.space import MultiGrid\n",
    "\n",
    "# Con ''RandomActivation'', hacemos que todos los agentes se activen ''al mismo tiempo''.\n",
    "from mesa.time import RandomActivation\n",
    "\n",
    "# Haremos uso de ''DataCollector'' para obtener información de cada paso de la simulación.\n",
    "from mesa.datacollection import DataCollector\n",
    "\n",
    "# matplotlib lo usaremos crear una animación de cada uno de los pasos del modelo.\n",
    "%matplotlib inline\n",
    "import matplotlib\n",
    "import matplotlib.pyplot as plt\n",
    "import matplotlib.animation as animation\n",
    "plt.rcParams[\"animation.html\"] = \"jshtml\"\n",
    "matplotlib.rcParams['animation.embed_limit'] = 2**128\n",
    "\n",
    "# Importamos los siguientes paquetes para el mejor manejo de valores numéricos.\n",
    "import numpy as np\n",
    "import pandas as pd"
   ]
  },
  {
   "cell_type": "code",
   "execution_count": 33,
   "id": "8291f894",
   "metadata": {},
   "outputs": [],
   "source": [
    "class Person(Agent):\n",
    "    def __init__(self, id, model):\n",
    "        super().__init__(id,model)\n",
    "        self.wealth = 1\n",
    "    \n",
    "    def step(self):\n",
    "        if self.wealth == 0:\n",
    "            return\n",
    "        other_agent = self.random.choice(self.model.schedule.agents)\n",
    "        other_agent.wealth += 1\n",
    "        self.wealth -= 1"
   ]
  },
  {
   "cell_type": "code",
   "execution_count": 34,
   "id": "4240d457",
   "metadata": {},
   "outputs": [],
   "source": [
    "class MoneyModel(Model):\n",
    "    def __init__(self, number_of_agents = 1):\n",
    "        self.schedule = RandomActivation(self)\n",
    "        \n",
    "        for i in range(number_of_agents):\n",
    "            agent = Person(i, self)\n",
    "            self.schedule.add(agent)\n",
    "\n",
    "    def step(self):\n",
    "        self.schedule.step()"
   ]
  },
  {
   "cell_type": "code",
   "execution_count": 35,
   "id": "a4a124c6",
   "metadata": {},
   "outputs": [],
   "source": [
    "MAX_ITERATIONS = 10\n",
    "NUM_AGENTS = 10\n",
    "model = MoneyModel(NUM_AGENTS)\n",
    "\n",
    "for i in range(MAX_ITERATIONS):\n",
    "    model.step()"
   ]
  },
  {
   "cell_type": "code",
   "execution_count": 36,
   "id": "e6292ac1",
   "metadata": {},
   "outputs": [
    {
     "data": {
      "text/plain": [
       "(array([5., 0., 3., 0., 0., 0., 0., 1., 0., 1.]),\n",
       " array([0. , 0.4, 0.8, 1.2, 1.6, 2. , 2.4, 2.8, 3.2, 3.6, 4. ]),\n",
       " <BarContainer object of 10 artists>)"
      ]
     },
     "execution_count": 36,
     "metadata": {},
     "output_type": "execute_result"
    },
    {
     "data": {
      "image/png": "[encoded data removed]",
      "text/plain": [
       "<Figure size 640x480 with 1 Axes>"
      ]
     },
     "metadata": {},
     "output_type": "display_data"
    }
   ],
   "source": [
    "agent_wealth = [agent.wealth for agent in model.schedule.agents]\n",
    "plt.hist(agent_wealth)"
   ]
  },
  {
   "cell_type": "code",
   "execution_count": 37,
   "id": "d020e1be",
   "metadata": {},
   "outputs": [
    {
     "data": {
      "text/plain": [
       "(array([43., 33., 12.,  5.,  7.]),\n",
       " array([0. , 0.8, 1.6, 2.4, 3.2, 4. ]),\n",
       " <BarContainer object of 5 artists>)"
      ]
     },
     "execution_count": 37,
     "metadata": {},
     "output_type": "execute_result"
    },
    {
     "data": {
      "image/png": "[encoded data removed]",
      "text/plain": [
       "<Figure size 640x480 with 1 Axes>"
      ]
     },
     "metadata": {},
     "output_type": "display_data"
    }
   ],
   "source": [
    "MAX_ITERATIONS = 10\n",
    "NUM_AGENTS = 10\n",
    "model = MoneyModel(NUM_AGENTS)\n",
    "\n",
    "all_wealth = []\n",
    "for i in range(MAX_ITERATIONS):\n",
    "    model.step()\n",
    "    for agent in model.schedule.agents:\n",
    "        all_wealth.append(agent.wealth)\n",
    "\n",
    "plt.hist(all_wealth, bins=(max(all_wealth) + 1))"
   ]
  },
  {
   "cell_type": "code",
   "execution_count": 53,
   "id": "26462dbf",
   "metadata": {},
   "outputs": [],
   "source": [
    "class Person(Agent):\n",
    "    def __init__(self, id, model):\n",
    "        super().__init__(id,model)\n",
    "        self.wealth = 1\n",
    "    \n",
    "    def move(self):\n",
    "        possible_positions = self.model.grid.get_neighborhood(self.pos, moore=True)\n",
    "        new_position = self.random.choice(possible_positions)\n",
    "        self.model.grid.move_agent(self, new_position)\n",
    "    \n",
    "    def give_money(self):\n",
    "        neighbors = self.model.grid.get_neighbors(self.pos, moore=True)\n",
    "        if len(neighbors) >= 1:\n",
    "            other_agent = self.random.choice(neighbors)\n",
    "            other_agent.wealth += 1\n",
    "            self.wealth -= 1\n",
    "    \n",
    "    def step(self):\n",
    "        self.move()\n",
    "        if self.wealth > 0:\n",
    "            self.give_money()"
   ]
  },
  {
   "cell_type": "code",
   "execution_count": 54,
   "id": "8b80d7cb",
   "metadata": {},
   "outputs": [],
   "source": [
    "class MoneyModel(Model):\n",
    "    def __init__(self, width, height, number_of_agents):\n",
    "        \n",
    "        # non-toroidal grid\n",
    "        self.grid = MultiGrid(width, height, False)\n",
    "        \n",
    "        self.schedule = RandomActivation(self)\n",
    "        \n",
    "        #self.datacollector =  DataCollector(model_reporters = {\"Grid\" : get_grid})\n",
    "        \n",
    "        for i in range(number_of_agents):\n",
    "            agent = Person(i, self)\n",
    "            x = self.random.randrange(width)\n",
    "            y = self.random.randrange(height)\n",
    "            self.grid.place_agent(agent, (x,y))\n",
    "            self.schedule.add(agent)\n",
    "\n",
    "    def step(self):\n",
    "        #self.datacollector.collect(self)\n",
    "        self.schedule.step()"
   ]
  },
  {
   "cell_type": "code",
   "execution_count": 55,
   "id": "dcc9d800",
   "metadata": {},
   "outputs": [],
   "source": [
    "MAX_ITERATIONS = 10\n",
    "NUM_AGENTS = 10\n",
    "GRID_SIZE = 20\n",
    "\n",
    "model = MoneyModel(GRID_SIZE, GRID_SIZE, NUM_AGENTS)\n",
    "\n",
    "for i in range(MAX_ITERATIONS):\n",
    "    model.step()"
   ]
  },
  {
   "cell_type": "code",
   "execution_count": 56,
   "id": "61325f1e",
   "metadata": {},
   "outputs": [
    {
     "data": {
      "text/plain": [
       "<matplotlib.colorbar.Colorbar at 0x2c83f843a30>"
      ]
     },
     "execution_count": 56,
     "metadata": {},
     "output_type": "execute_result"
    },
    {
     "data": {
      "image/png": "[encoded data removed]",
      "text/plain": [
       "<Figure size 640x480 with 2 Axes>"
      ]
     },
     "metadata": {},
     "output_type": "display_data"
    }
   ],
   "source": [
    "agent_counts = np.zeros((model.grid.width, model.grid.height))\n",
    "for (agents, x, y) in model.grid.coord_iter():\n",
    "    agent_counts[x][y] = len(agents)\n",
    "    \n",
    "plt.imshow(agent_counts, interpolation='nearest')\n",
    "plt.colorbar()"
   ]
  },
  {
   "cell_type": "code",
   "execution_count": 68,
   "id": "a3782491",
   "metadata": {},
   "outputs": [],
   "source": [
    "# gini for each step in the simulation\n",
    "def compute_gini(model):\n",
    "    agent_wealths = [agent.wealth for agent in model.schedule.agents]\n",
    "    x = sorted(agent_wealths)\n",
    "    N = model.num_agents\n",
    "    B = sum(xi * (N - i) for i, xi in enumerate(x)) / (N * sum(x))\n",
    "    return (1 + (1/N) - (2*B))"
   ]
  },
  {
   "cell_type": "code",
   "execution_count": 71,
   "id": "2a9b11a0",
   "metadata": {},
   "outputs": [],
   "source": [
    "class MoneyModel(Model):\n",
    "    def __init__(self, width, height, num_agents):\n",
    "        self.num_agents = num_agents\n",
    "        # non-toroidal grid\n",
    "        self.grid = MultiGrid(width, height, False)\n",
    "        \n",
    "        self.schedule = RandomActivation(self)\n",
    "        \n",
    "        self.datacollector =  DataCollector(\n",
    "            model_reporters = {\"Gini\" : compute_gini},\n",
    "            agent_reporters = {\"Wealth\" : \"wealth\"}\n",
    "        )\n",
    "        \n",
    "        for i in range(num_agents):\n",
    "            agent = Person(i, self)\n",
    "            x = self.random.randrange(width)\n",
    "            y = self.random.randrange(height)\n",
    "            self.grid.place_agent(agent, (x,y))\n",
    "            self.schedule.add(agent)\n",
    "\n",
    "    def step(self):\n",
    "        self.datacollector.collect(self)\n",
    "        self.schedule.step()"
   ]
  },
  {
   "cell_type": "code",
   "execution_count": 72,
   "id": "f8e710dd",
   "metadata": {},
   "outputs": [],
   "source": [
    "MAX_ITERATIONS = 10\n",
    "NUM_AGENTS = 10\n",
    "GRID_SIZE = 20\n",
    "\n",
    "model = MoneyModel(GRID_SIZE, GRID_SIZE, NUM_AGENTS)\n",
    "\n",
    "for i in range(MAX_ITERATIONS):\n",
    "    model.step()"
   ]
  },
  {
   "cell_type": "code",
   "execution_count": 75,
   "id": "8f92f1a8",
   "metadata": {},
   "outputs": [],
   "source": [
    "gini = model.datacollector.get_model_vars_dataframe()\n",
    "agent_wealth = model.datacollector.get_agent_vars_dataframe()"
   ]
  },
  {
   "cell_type": "code",
   "execution_count": 77,
   "id": "87b0589a",
   "metadata": {},
   "outputs": [
    {
     "data": {
      "text/plain": [
       "<Axes: >"
      ]
     },
     "execution_count": 77,
     "metadata": {},
     "output_type": "execute_result"
    },
    {
     "data": {
      "image/png": "[encoded data removed]",
      "text/plain": [
       "<Figure size 640x480 with 1 Axes>"
      ]
     },
     "metadata": {},
     "output_type": "display_data"
    }
   ],
   "source": [
    "gini.plot()"
   ]
  },
  {
   "cell_type": "code",
   "execution_count": null,
   "id": "02be45c4",
   "metadata": {},
   "outputs": [],
   "source": []
  }
 ],
 "metadata": {
  "kernelspec": {
   "display_name": "Python 3 (ipykernel)",
   "language": "python",
   "name": "python3"
  },
  "language_info": {
   "codemirror_mode": {
    "name": "ipython",
    "version": 3
   },
   "file_extension": ".py",
   "mimetype": "text/x-python",
   "name": "python",
   "nbconvert_exporter": "python",
   "pygments_lexer": "ipython3",
   "version": "3.10.9"
  }
 },
 "nbformat": 4,
 "nbformat_minor": 5
}
